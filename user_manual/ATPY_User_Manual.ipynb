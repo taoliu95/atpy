{
 "cells": [
  {
   "cell_type": "markdown",
   "id": "10673f7b",
   "metadata": {},
   "source": [
    "# ATPY User Manual\n",
    "ATPY(Accelerator Tools on PYthon) is a package for accelerator design and optimization, working on python (tested on python3.7-3.10). The core code is written in C++14, wrapped by cython. It's open [source](https://github.com/taoliu95/atpy).\n",
    "## Install\n",
    "This package depends on cmake, gcc/msvc(support c++14, linux better), cython, pymoo, matplotlib, numpy and Eigen \n",
    "\n",
    "### install msvc on Windows 10/11 \n",
    "1. download and install msvc by [Visual Studio 2022 生成工具](https://visualstudio.microsoft.com/zh-hans/downloads/) \n",
    "<p> \n",
    "<img align=\"center\" src=\"./figs/vs2022bd_downloads1.png\" style=\"zoom:50%\" />\n",
    " <img align=\"center\" src=\"./figs/vs2022bd_downloads2.png\" style=\"zoom:50%\" />\n",
    " <img align=\"center\" src=\"./figs/vs2022bd_downloads3.png\" style=\"zoom:50%\" />\n",
    "</p>\n",
    " \n",
    "2. (select ‘使用C++的桌面开发’ ), install\n",
    "<p> \n",
    "<img align=center src=\"./figs/vs2022bd_install1.png\" style=\"zoom:40%\" />\n",
    "<img align=center src=\"./figs/vs2022bd_install2.png\" style=\"zoom:40%\" />\n",
    "<img align=center src=\"./figs/vs2022bd_install3.png\" style=\"zoom:40%\" />\n",
    "</p>\n",
    "3. Install Visual Studio Code, then, install the extensions of cmake tools and C/C++. In the configure of cmake extension, follow the order, choose the right compiler and release mode, then click 'configure all projects' and 'build all projects' in the 'PROJECT OUTLINE'.\n",
    "4. run `python setup.py bdist_wheel` in the directory which includes setup.py file, the the python package will be compiled.\n",
    "5. install this package as a python library `pip install ./dist/atpy.xxx.xxx.whl`, where xxx.xxx is some information about your platform.\n",
    "\n",
    "<p> \n",
    "<img align=center src=\"./figs/vscode_config1.png\" style=\"zoom:60%\" />\n",
    "<img align=center src=\"./figs/vscode_config2.png\" style=\"zoom:60%\" />\n",
    "<img align=center src=\"./figs/vscode_config3.png\" style=\"zoom:60%\" />\n",
    "</p> \n"
   ]
  },
  {
   "cell_type": "markdown",
   "id": "e84f4f21",
   "metadata": {},
   "source": [
    "## Architecture of ATPY\n",
    "- element\n",
    "- component\n",
    "- line\n",
    "- beamline\n",
    "\n"
   ]
  },
  {
   "cell_type": "markdown",
   "id": "a7ba6a84",
   "metadata": {},
   "source": [
    "## features introduction\n",
    "### parameters\n",
    "#### local parameters\n",
    "- element parameters(see by run `print(list(kwd_index.keys()))`)\n",
    "- linear optics(twiss functions)(see by run `print(list(tws_index.keys()))`)\n",
    "- resernance driving terms fluctuation(lhijmnp,where i,j,m,n,p is number)\n",
    "- geometry parameters (see by run `print(list(loc_index.keys()))` )\n",
    "- transfer matrix (Rij, where i,j is number between 1~6)and closed orbit(CODx,CODpx, CODy,CODpy, CODz,CODpz)\n",
    "- misaligment parameters(todo)(Dx,Dy,Dz, rotate1,rotate2,rotate3)\n",
    "- local Montague functions(todo)(Wx1,Wy1, Wx2, Wy2)\n",
    "#### global parameters(see by run `print(list(glb_index.keys()))` )\n",
    "- beam parameters, like radiation integrals(RI1~RI5), emittance, damping time, nature chromaticity, circumference,etc.\n",
    "- chromaticity, 1~4 order chromaticity(dQx,dQy, d2Qx,d2Qy,d3Qx,d3Qy,d4Qx,d4Qy), by numeric defferential\n",
    "- resonance driving terms\n",
    "- dynmaic aperture(DA)\n",
    "- 1st order Motague function (Wx,Wy) \n",
    "- tune at $\\pm monitor\\_dp$ (low_Qx,low_Qy,high_Qx,high_Qy)\n",
    "- $\\delta_p$ range for stable lattice(scan between $\\pm rf_dp$ ), and the rms of the valid tunes(sum_sqr_Qx, sum_sqr_Qy),\n"
   ]
  },
  {
   "cell_type": "markdown",
   "id": "fa6be033",
   "metadata": {},
   "source": [
    "#### Status flags(see by run `print(default_status )`)\n",
    "```\n",
    "misaligment          :False, (if True, misalignment will be considered, but not implemented yet, so keep it False)\n",
    "radiation            :False, (if True, radiation will be considered, but not implemented yet, so keep it False)\n",
    "fluctuation          :False, (if True, quantum excitation will be considered, but not implemented yet, so keep it False)\n",
    "fringe               :False,(if True, fringe will be considered, but not implemented yet, so keep it False)\n",
    "edge                 :False,(if True, edge will be considered, but this flag is not used yet, so keep it False)\n",
    "lossmap              :False, (if True, lossmap will be considered. However, lossmap is always considered, so no matter it is False or True)\n",
    "fma                  :False, (if True, fma will be considered, but not implemented yet, so keep it False)\n",
    "slice                :True, (if True, slice will be considered, but slice is always considered, so no matter it is False or True)\n",
    "combineddipole       :False, (if combined dipole is used, set combineddipole to be True)\n",
    "computedrivingterms  :False, (if True, RDTs will be considered)\n",
    "leaderordertermonly  :False, (if True, only leader order terms will be considered in RDTs, but now deprecated, all RDTs calculated)\n",
    "nonlineartermonly    :False, (if True, only non-linear terms change in linear optics,then linear optics only change at non-linear element, may be deprecated later )\n",
    "linear               :True, (if True, the optics is linear optics, otherwise, it is non-linear optics, actually, linear optics is always considered)\n",
    "period               :True, (**if True, the lattice is periodic, otherwise, it is non-periodic**)\n",
    "npara                :1, (number of thread in calculate global parameter DA)\n",
    "totalslice           :0,  (total number of slices, don't set it, it's calculated)\n",
    "multipoleslice       :0, (number of slices for multipoles, don't set it, it's calculated)\n",
    "Trx                  :10.0, (horizontal trace  of the transfer matrix, calculated)\n",
    "Try                  :10.0, (vertical trace  of the transfer matrix, calculated)\n",
    "dp0                  :0.0, (the working dp/p, 0 for on-momentum)\n",
    "dp                   :4e-4, (the dp/p step used in numerical differentiation)\n",
    "expand               :False,  (if True, the lattice is expanded, then every component has its independent element with the same name, parameters are copied)\n",
    "particle             :0, (the particle type, 0 for the electron particle, actually only electron is supported now.)\n",
    "energy               :2000000000.0,    (the energy of the particle, in eV)\n",
    "second_order_chrom   :False, (if True, the 2nd order chromaticity is calculated)\n",
    "third_order_chrom    :False, (if True, the 2nd-4th order chromaticity is calculated)\n",
    "nperiods             :1, (the number of periods, used to calculate RDTs, but not used now)\n",
    "printout             :False,     (if True, some log will be printed, then the calculation will be slow for the output stream)\n",
    "transfermatrix       :True, (if True, the transfer matrix will be calculated, however, transfer matrix is always calculated now)\n",
    "mincouple            :0.005,   (the minimum coupling factor)\n",
    "track_lines          :13, (the number of lines to track in DA calculation)\n",
    "track_turns          :100, (the number of turns to track in DA calculation)\n",
    "monitor_dp           :0.01, (the dp/p where to monitor the tunes)\n",
    "lazy_compute         :True, (if True, the objective will not be computed if the constraints are not satisfied)\n",
    "larger_monitor_dp    :1.0, (the larger_monitor_dp*monitor_dp where to monitor the tunes)\n",
    "fast_2nd_order_RDTs  :False, (if True, the RDTs will be computed in a faster way)\n",
    "max_betax            :1e-6, (a given  maximum betax function to estimate touschek lifetime)\n",
    "max_etax             :1e-6,  (a given  maximum etax function to estimate touschek lifetime)\n",
    "NP                   :50000000000, (the number of particles in a bunch to estimate touschek lifetime)\n",
    "rf_dp                :0.02, ( the $\\delta_p$ range to calculate the tune of stable lattice)\n",
    "rdt_fluctuation      :False, (if True, RDTs fluctuation will be considered, the global RDTs Hijmnp will be use to stored the mean of the lhijmnp along the lattice )\n",
    "local_twiss          :False, (if True, the local twiss parameters will be computed in the rf_dp)\n",
    "off_momentum_rdts    :False, (if True, the off-momentum RDTs will be computed)\n",
    "off_rdts_observer    :0.01 ,     (the observer dp/p for the off-momentum RDTs)\n",
    "max_da_range         :50,  (the maximum range for the DA calculation, max_da_range*$sigma_{x,y} $ )\n",
    "chrom_refpt          :-1 (the reference point for the chromaticity calculation)\n",
    "```"
   ]
  },
  {
   "cell_type": "code",
   "execution_count": null,
   "id": "c96a5c8e",
   "metadata": {},
   "outputs": [],
   "source": [
    "#### status flags(see by run `print(default_status )`)\n",
    "stat_dict= {  'misaligment': \"False, (if True, misalignment will be considered, but not implemented yet, so keep it False)\",\n",
    "  'radiation': \"False, (if True, radiation will be considered, but not implemented yet, so keep it False)\",\n",
    "  'fluctuation': \"False, (if True, quantum excitation will be considered, but not implemented yet, so keep it False)\",\n",
    "  'fringe': \"False,(if True, fringe will be considered, but not implemented yet, so keep it False)\",\n",
    "  'edge': \"False,(if True, edge will be considered, but this flag is not used yet, so keep it False)\",\n",
    "  'lossmap': \"False, (if True, lossmap will be considered. However, lossmap is always considered, so no matter it is False or True)\",\n",
    "  'fma': \"False, (if True, fma will be considered, but not implemented yet, so keep it False)\",\n",
    "  'slice': \"True, (if True, slice will be considered, but slice is always considered, so no matter it is False or True)\",\n",
    "  'combineddipole': \"False, (if combined dipole is used, set combineddipole to be True)\",\n",
    " 'computedrivingterms': \"False,\",\n",
    "  'leaderordertermonly': \"False, (if True, only leader order terms will be considered in RDTs, but now deprecated, all RDTs calculated)\",\n",
    "  'nonlineartermonly': \"False, (if True, only non-linear terms change in linear optics,then linear optics only change at non-linear element, may be deprecated later )\",\n",
    "  'linear': \"True, (if True, the optics is linear optics, otherwise, it is non-linear optics, actually, linear optics is always considered)\",\n",
    "  'period': \"True, (**if True, the lattice is periodic, otherwise, it is non-periodic**)\",\n",
    "  'npara': \"1, (number of thread in calculate global parameter DA)\",\n",
    "  'totalslice': \"0,  (total number of slices, don't set it, it's calculated)\",\n",
    "  'multipoleslice': \"0, (number of slices for multipoles, don't set it, it's calculated)\",\n",
    "  'Trx': \"10.0, (horizontal trace  of the transfer matrix, calculated)\",\n",
    "  'Try': \"10.0, (vertical trace  of the transfer matrix, calculated)\",\n",
    "  'dp0': \"0.0, (the working dp/p, 0 for on-momentum)\",\n",
    "  'dp': \"4e-4, (the dp/p step used in numerical differentiation)\",\n",
    "  'expand': \"False,  (if True, the lattice is expanded, then every component has its independent element with the same name, parameters are copied)\",\n",
    "  'particle': \"0, (the particle type, 0 for the electron particle, actually only electron is supported now.)\",\n",
    "  'energy': \"2000000000.0,    (the energy of the particle, in eV)\",\n",
    "  'second_order_chrom': \"False, (if True, the 2nd order chromaticity is calculated)\",\n",
    "  'third_order_chrom': \"False, (if True, the 2nd-4th order chromaticity is calculated)\",\n",
    "  'nperiods': \"1, (the number of periods, used to calculate RDTs, but not used now)\",\n",
    "  'printout': \"False,     (if True, some log will be printed, then the calculation will be slow for the output stream)\",\n",
    "  'transfermatrix': \"True, (if True, the transfer matrix will be calculated, however, transfer matrix is always calculated now)\",\n",
    "  'mincouple': \"0.005,   (the minimum coupling factor)\",\n",
    "  'track_lines': \"13, (the number of lines to track in DA calculation)\",\n",
    "  'track_turns': \"100, (the number of turns to track in DA calculation)\",\n",
    "  'monitor_dp': \"0.01, (the dp/p where to monitor the tunes)\",\n",
    "  'lazy_compute': \"True, (if True, the objective will not be computed if the constraints are not satisfied)\",\n",
    "  'larger_monitor_dp': \"1.0, (the larger_monitor_dp*monitor_dp where to monitor the tunes)\",\n",
    "  'fast_2nd_order_RDTs': \"False, (if True, the RDTs will be computed in a faster way)\",\n",
    "  'max_betax': \"1e-6, (a given  maximum betax function to estimate touschek lifetime)\",\n",
    "  'max_etax': \"1e-6,  (a given  maximum etax function to estimate touschek lifetime)\",\n",
    "  'NP': \"50000000000, (the number of particles in a bunch to estimate touschek lifetime)\",\n",
    "  'rf_dp': \"0.02, ( the $\\delta_p$ range to calculate the tune of stable lattice)\",\n",
    "  'rdt_fluctuation': \"False, (if True, RDTs fluctuation will be considered, the global RDTs Hijmnp will be use to stored the mean of the lhijmnp along the lattice )\",\n",
    "  'local_twiss': \"False, (if True, the local twiss parameters will be computed in the rf_dp)\",\n",
    "  'off_momentum_rdts': \"False, (if True, the off-momentum RDTs will be computed)\",\n",
    "  'off_rdts_observer': \"0.01,     (the observer dp/p for the off-momentum RDTs)\",\n",
    "  'max_da_range': \"50,  (the maximum range for the DA calculation, max_da_range*$sigma_{x,y} $ )\",\n",
    "  'chrom_refpt': \"-1 (the reference point for the chromaticity calculation)\"\n",
    "}\n",
    "for key,value in stat_dict.items():\n",
    "    print(f\"{key:<20} :{value}\")"
   ]
  },
  {
   "cell_type": "markdown",
   "id": "49923033",
   "metadata": {},
   "source": [
    "## Element Definitions"
   ]
  },
  {
   "cell_type": "code",
   "execution_count": null,
   "id": "68a15599",
   "metadata": {
    "ExecuteTime": {
     "end_time": "2024-03-31T02:28:59.832768Z",
     "start_time": "2024-03-31T02:28:59.814776Z"
    },
    "code_folding": [
     0
    ]
   },
   "outputs": [],
   "source": [
    "#  Marker,Drift,ExactDrift, Dipole, Quadrupole, Sextupole, Octupole, Tuning\n",
    "# Line BeamLine\n",
    "# Status\n",
    "# tws_index, kwd_index, loc_index, glb_index\n",
    "from atpy import *\n",
    "print(list(kwd_index.keys()))\n",
    "print(list(tws_index.keys()))\n",
    "print(list(loc_index.keys()))\n",
    "print(list(glb_index.keys()))\n",
    "print(default_status)"
   ]
  },
  {
   "cell_type": "markdown",
   "id": "b4686c43",
   "metadata": {},
   "source": [
    "### Directly define element"
   ]
  },
  {
   "cell_type": "code",
   "execution_count": null,
   "id": "fec4be14",
   "metadata": {
    "ExecuteTime": {
     "end_time": "2024-03-31T02:29:35.161339Z",
     "start_time": "2024-03-31T02:29:35.136338Z"
    },
    "code_folding": []
   },
   "outputs": [],
   "source": [
    "#-*- direct definition -*-\n",
    "from atpy import*\n",
    "FM = Marker(\"FM\",)\n",
    "F1 = Marker(\"F1\",)\n",
    "LSB2 = Drift(\"LSB2\",l=1.95227266)   \n",
    "LSB1 = Drift(\"LSB1\",l=1.46167866)\n",
    "LSX = Drift(\"LSX\",l=0.40000000)\n",
    "LSA2 = Drift(\"LSA2\",l=2.55416484)\n",
    "LSA1 = Drift(\"LSA1\",l=2.84837711)\n",
    "LX03 = Drift(\"LX03\",l=0.10000000)\n",
    "DTUNE0 = Drift(\"DTUNE0\",l=0.78648950)\n",
    "B1 = Dipole(\"B1\",l=0.50670849, angle=0.03378057, k1=0.00000000, e1=0.50000000, e2=0.50000000)\n",
    "QSA5 = Quadrupole(\"QSA5\",l=0.30000000, k1=-0.84186052)\n",
    "QSA4 = Quadrupole(\"QSA4\",l=0.30000000, k1=1.49711117)\n",
    "QSA3 = Quadrupole(\"QSA3\",l=0.30000000, k1=-1.65566620)\n",
    "QSA2 = Quadrupole(\"QSA2\",l=0.30000000, k1=1.63095422)\n",
    "QSA1 = Quadrupole(\"QSA1\",l=0.30000000, k1=-1.70081304)\n",
    "QF = Quadrupole(\"QF\",l=0.30000000, k1=1.53040414)\n",
    "QD = Quadrupole(\"QD\",l=0.30000000, k1=-1.52453199)\n",
    "SF = Sextupole(\"SF\",l=0.20000000, k2=33.88427102)  # l could be 0, which is thin lens, so is octupole\n",
    "SD = Sextupole(\"SD\",l=0.20000000, k2=-62.31467841)\n",
    "TUNE01 = Tuning(\"TUNE01\",dnux=0.00000000, dnuy=0.00000000,\n",
    "                        betax1=10,alphax1=0,betay1=1,alphay1=0,etax1=0,etapx1=0,\n",
    "                        betax2=10,alphax2=0,betay2=1,alphay2=0,etax2=0,etapx2=0 ) # define a phase trombone, usuualy  betax1=betax,betay1=betay2, ..., dnux, dnuy is tuned \n",
    "# define line\n",
    "SUPP = Line(\"SUPP\",LSA1, QSA1, LSA2, QSA2, LSX, B1, LSX, QSA3, LSB1, QSA4, LSB2, QSA5, FM)\n",
    "SUPP2 = Line(\"SUPP2\",QF, SUPP)\n",
    "FREEFODO = Line(\"FREEFODO\",F1, QF, LSX, DTUNE0, B1, DTUNE0, LSX, QD, LSX, DTUNE0, B1, DTUNE0, LSX)\n",
    "FODOXY = Line(\"FODOXY\",F1, QF, LX03, SF, LX03, DTUNE0, B1, DTUNE0, LSX, QD, LX03, SD, LX03, DTUNE0, B1, DTUNE0, LSX)\n",
    "ARC = Line(\"ARC\",-SUPP, 5*FODOXY, SUPP2) # -,* is useful for complex lattice\n",
    "# model the lattice\n",
    "stat=Status( second_order_chrom=True, track_lines=9, monitor_dp=0.02, \n",
    "            fast_2nd_order_RDTs=True, max_betax=277.56, max_etax=0.592, third_order_chrom=True, dp=0.00035, rf_dp=0.017, npara=5, \n",
    "            computedrivingterms=True, period=  True, track_turns=500 )\n",
    "tws0={'betax': 6.000000e-02, 'betay': 6.000000e-04}\n",
    "RING=BeamLine(\"RING\",stat,FODOXY,**tws0)"
   ]
  },
  {
   "cell_type": "markdown",
   "id": "eda814b0",
   "metadata": {},
   "source": [
    "### simply difine with translate (without writing element name twice)"
   ]
  },
  {
   "cell_type": "code",
   "execution_count": null,
   "id": "c2833756",
   "metadata": {
    "ExecuteTime": {
     "end_time": "2024-03-31T02:34:06.093423Z",
     "start_time": "2024-03-31T02:34:06.074408Z"
    },
    "code_folding": [
     1
    ]
   },
   "outputs": [],
   "source": [
    "#-*- for folding -*-\n",
    "lat=r\"\"\"\n",
    "    from atpy import*\n",
    "    FM   = Marker()\n",
    "    F1   = Marker()\n",
    "    LSB2     = Drift(l=1.95227266*2)\n",
    "    LSB1     = Drift(l=1.46167866*2)\n",
    "    LSX  = Drift(l=0.40000000)\n",
    "    LSA2     = Drift(l=2.55416484*2)\n",
    "    LSA1     = Drift(l=2.84837711*2)\n",
    "    LX03     = Drift(l=0.10000000)\n",
    "    DTUNE0   = Drift(l=0.78648950)\n",
    "    B1   = Dipole(l=0.50670849, angle=0.03378057, k1=0.00000000, e1=0.50000000, e2=0.50000000)\n",
    "    QSA4     = Quadrupole(l=0.30000000, k1=1.49711117*2)\n",
    "    QSA5     = Quadrupole(l=0.30000000, k1=-0.84186052*2)\n",
    "    QSA3     = Quadrupole(l=0.30000000, k1=-1.65566620*2)\n",
    "    QSA2     = Quadrupole(l=0.30000000, k1=1.63095422*2)\n",
    "    QSA1     = Quadrupole(l=0.30000000, k1=-1.70081304*2)\n",
    "    QF   = Quadrupole(l=0.30000000, k1=1.53040414)\n",
    "    QD   = Quadrupole(l=0.30000000, k1=-1.52453199)\n",
    "    SF   = Sextupole(l=0.20000000, k2=33.88427102)\n",
    "    SD   = Sextupole(l=0.20000000, k2=-62.31467841)\n",
    "    SUPP     = Line(LSA1, QSA1, LSA2, QSA2, LSX, B1, LSX, QSA3, LSB1, QSA4, LSB2, QSA5, FM)\n",
    "    SUPP2 = Line(QF, SUPP)\n",
    "    FREEFODO     = Line(F1, QF, LSX, DTUNE0, B1, DTUNE0, LSX, QD, LSX, DTUNE0, B1, DTUNE0, LSX)\n",
    "    FODOXY   = Line(F1, QF, LX03, SF, LX03, DTUNE0, B1, DTUNE0, LSX, QD, LX03, SD, LX03, DTUNE0, B1, DTUNE0, LSX)\n",
    "    \n",
    "    ARC  = Line(-SUPP, 5*FODOXY,  SUPP2)\n",
    "\"\"\"\n",
    "\n",
    "from atpy import*\n",
    "# translate str to python script\n",
    "translate(lat)\n",
    "# import the \n",
    "from atpy.tools.translate import*\n",
    "\n",
    "stat=Status( second_order_chrom=True, track_lines=9, monitor_dp=0.02, \n",
    "            fast_2nd_order_RDTs=True, max_betax=277.56, max_etax=0.592, third_order_chrom=True, dp=0.00035, rf_dp=0.017, npara=5, \n",
    "            computedrivingterms= True, period=   True, track_turns=500 )\n",
    "\n",
    "tws0=dict(betax=10.34965253,   alphax=-2.38935827, betay=1.963445526,  alphay=0.5242721964  ,etax=0.2846300877, etapx= 0.06610030865)\n",
    "RING=BeamLine(\"RING\",stat,FODOXY,**tws0)"
   ]
  },
  {
   "cell_type": "code",
   "execution_count": null,
   "id": "db553eb2",
   "metadata": {},
   "outputs": [],
   "source": [
    "QF[\"all\"]"
   ]
  },
  {
   "cell_type": "markdown",
   "id": "d567a7aa",
   "metadata": {},
   "source": [
    "## Interface"
   ]
  },
  {
   "cell_type": "markdown",
   "id": "056d87f0",
   "metadata": {},
   "source": [
    "### getitem\n",
    "```python\n",
    "# getvaluie of Element\n",
    "print(QF[\"all\"]) # one of the element parameters\n",
    "# getvaluie of BeamLine\n",
    "## 1 str argument\n",
    "RING[\"VAR\"] # return \n",
    "RING[\"CONSTRAINT\"] # return \n",
    "RING[\"OPTIMIZE\"] # return \n",
    "RING[\"ID\"] # return self define variables\n",
    "RING[\"KWD\"] # return all the keyword name and its index\n",
    "RING[\"TWS\"] # return all the twiss function name and its index\n",
    "RING[\"LOC\"] # return all the local variables name and its index\n",
    "RING[\"GLB\"] # return all the global variables name and its index\n",
    "RING[\"STAT\"] # return current status dict\n",
    "RING[\"QF\"] # return element by the given name\n",
    "RING[\"emitx\"] # return the value of the global variable by the given name\n",
    "## 1 int argument\n",
    "RING[-1] # return the last element\n",
    "## 1 slice argument\n",
    "RING[:] # return all the elements\n",
    "## 1 list argument\n",
    "RING[[1,3,5,7]] # return the element list of the given indexes\n",
    "RING[list(glb_index.keys())] # return the global list of the given names\n",
    "### 2 arguments\n",
    "RING[position, terms ] # position (position of elements): int/:/list of int/list of str\n",
    "                      # terms(name of the gloabl variables ): str/list of str, the str could be the name of keywords, twiss function, and the local variables \n",
    "                      # return: \n",
    "                      # 1. if position refers to one position and terms refers to one name, return the value of the element, is a number ;\n",
    "                      # 2. if position refers to one position and terms refers to a list of names, return the position list and the values of the element,  list1,list2 ;\n",
    "                      # 3. if position refers to a list of positions and terms refers to one name, return the position list and the value of the elements,  list1,list2 ;\n",
    "                      # 4. if position refers to a list of positions and terms refers to a list of names, return the position list and the values of the elements,  list1, list2 ;\n",
    "\n",
    "\n",
    "```"
   ]
  },
  {
   "cell_type": "markdown",
   "id": "189b83e1",
   "metadata": {},
   "source": [
    "### setitem\n",
    "\n",
    "```python\n",
    "## 1 str argument\n",
    "RING[\"dp\"]=0.00035 # set a filed of status\n",
    "RING[\"VAR\"]=[[lb1,ub1],\n",
    "            [lb2,ub2],\n",
    "            [lb3,ub3],\n",
    "            ...\n",
    "            [lbn,ubn]] # reset the bounds of the variables\n",
    "## 1 list argument\n",
    "RING[[\"dp\",\"rf_dp\"]]=[0.00035, 0.02]# set several filed of status\n",
    "## 2 argument\n",
    "RING[position, terms ] =  value # position (position of elements): int/:/list of int/list of str\n",
    "                      # terms(name of the gloabl variables ): str/list of str, the str could be the name of keywords, twiss function, and the local variables \n",
    "                      # value: float/array or list of float with the same shape of the second value in return of RING[position, terms ] \n",
    "RING.parse(string)  # return any values by parsing the string\n",
    "\n",
    "```"
   ]
  },
  {
   "cell_type": "markdown",
   "id": "fa14a216",
   "metadata": {},
   "source": [
    "## BeamLine method"
   ]
  },
  {
   "cell_type": "markdown",
   "id": "5767858a",
   "metadata": {},
   "source": [
    "```cython\n",
    "parse(self,str code)\n",
    "save(self)              :\n",
    "evolution(self,double[:,:] variables, double[:,:] objectives, double[:,:] CV )\n",
    "calc(self)\n",
    "findclosedorbit(self, double dp)\n",
    "highorderchromaticity(self,double dp0=0.0001 )\n",
    "compute_large_off_momentum_tunes(self)\n",
    "correctchrom(self, dQx=None, dQy =None)\n",
    "compute_off_momentum_twiss(self, list dp_range, double dp_step=1e-4, local_twiss=True)\n",
    "compute_off_momentum_RDTs(self)\n",
    "track(self, double[:,::1] beam0, int start_pos=0, int end_pos=-1, int nturn0=1,int nturn1=1)\n",
    "display(self,str token,bint detail=False)\n",
    "export(self,str filename, str filetype=\"atpy\")\n",
    "str(self,str filetype=\"atpy\")\n",
    "```\n"
   ]
  },
  {
   "cell_type": "code",
   "execution_count": null,
   "id": "2b209a1c",
   "metadata": {},
   "outputs": [],
   "source": [
    "# -*- find the method of BeamLine -*- \n",
    "names= dir(BeamLine)\n",
    "for name in names:\n",
    "\tif callable(getattr(BeamLine,name) ):\n",
    "\t\tprint(name)\n",
    "help(BeamLine.set_worker)"
   ]
  },
  {
   "cell_type": "markdown",
   "id": "cc8aac35",
   "metadata": {},
   "source": [
    "## match  or optimize\n",
    " **most of the optimization and matching is done with BeamLine.parse()(more complex opertion can be done with python script)**\n",
    "1. set variables\n",
    "\t1. VAR,NAME= **QF[0].k1**, LOWER=**0**, UPPER=**4**,STEP=**1e-6** ; #set one variable\n",
    "\t2. VAR,NAME= **\\$Q.+\\$** **[0].k1**, LOWER=**0**, UPPER=**4**,STEP=**1e-6** ; # set many varibales which names match the **Q.+**\n",
    "\t3. VAR,**QF[0].l** := **2/QF[0].k1**; # binding parameters to other variables\n",
    "\t4. Variable includes:\n",
    "\t\t* twiss functions(only initial twiss is work with non-period lattice, not work with period latttice )\n",
    "\t\t* local parameters(only initial local parameters work )\n",
    "\t\t* all parameters of elements \n",
    "\n",
    "2. set constraint and optimization objectives\n",
    "\t1. CONSTRAINT,EXPR:= **DIM(ABS(END[0].nuy-0.25),1E-4)**;\n",
    "\t2. OPTIMIZE,EXPR:= **DIM(ABS(END[0].nux-0.25),1E-8)**;\n",
    "\t3. the expr consists of below exprerssions:\n",
    "\t\t* twiss function, local parameters (END[0].betax)\n",
    "\t\t* global parameters (emitx,circumference,dQx,d2Qx)\n",
    "\t\t* self defined variables ( X1:=END[0].betax/END[0].betay-3 )\n",
    "\t\t* operator(+,-,*,/,**,%,//)\n",
    "\t\t* functions\n",
    "\t\t\t+ 1 argument: ABS(arg), SQRT(abs) ( all the expression consists of paramters, functions, operators can be argument of the functions)\n",
    "\t\t\t+ 2 arguments: DIM(arg1,arg2) ( all the expression consists of paramters, functions, operators can be argument of the functions)\n",
    "\t\t\t+ 3 arguments range functions: MAX(position1, position2, local/twiss), MIN(position1, position2, local/twiss), MAXABS(position1, position2, local/twiss), MINABS(position1, position2, local/twiss) \n",
    "3. set chromaticity correction (set a pair of knob to correct the chromaticity to the aim value)\n",
    "\t1. CHROM,AIM_DQX=**0**,KNOB=**SF**;\n",
    "\t2. CHROM,AIM_DQY=**0**,KNOB=**SD**;"
   ]
  },
  {
   "cell_type": "code",
   "execution_count": null,
   "id": "33ee1ccd",
   "metadata": {
    "ExecuteTime": {
     "end_time": "2024-03-31T02:34:12.708182Z",
     "start_time": "2024-03-31T02:34:12.690184Z"
    },
    "code_folding": [
     0,
     1
    ]
   },
   "outputs": [],
   "source": [
    "#-*- for folding -*-\n",
    "token=\"\"\"\n",
    "    VAR,NAME=QF[0].k1, LOWER=0, UPPER=4,STEP=1e-6 ;\n",
    "    VAR,NAME=QD[0].k1, LOWER=-4, UPPER=0,STEP=1e-6 ;\n",
    "    \n",
    "    CONSTRAINT,EXPR:= DIM(ABS(END[0].nux-0.25),1E-4);\n",
    "    CONSTRAINT,EXPR:=  DIM(ABS(END[0].nuy-0.25),1E-4);\n",
    "    \n",
    "    OPTIMIZE,EXPR:= DIM(ABS(END[0].nux-0.25),1E-8);\n",
    "    OPTIMIZE,EXPR:=  DIM(ABS(END[0].nuy-0.25),1E-8);\n",
    "    \n",
    "    CHROM,AIM_DQX=0,KNOB=SF;\n",
    "    CHROM,AIM_DQY=0,KNOB=SD;\n",
    "\"\"\"\n",
    "\n",
    "# set match or optimization configures\n",
    "RING.parse(token)\n",
    "\n",
    "# get variable info. current value, lower bounds, upper bounds, step\n",
    "values,_,_,_=RING[\"VAR\"]\n",
    "\n",
    "# if use multi-thread, else no need to set \n",
    "RING.set_parallel(8)\n",
    "\n",
    "\n",
    "# set new bounds if more concrete bounds is got\n",
    "RING[\"VAR\"]=[[0,2.5],\n",
    "             [-2.5,0]]\n",
    "\n",
    "#select the method of resonance driving terms calculation \n",
    "RING[\"fast_2nd_order_RDTs\"]=True\n",
    "\n",
    "# show the variable, constraint and optimization info.\n",
    "RING.display(\"VAR\")\n",
    "RING.display(\"CONSTRAINT\")\n",
    "RING.display(\"OPTIMIZE\")"
   ]
  },
  {
   "cell_type": "code",
   "execution_count": null,
   "id": "0b5df0fd",
   "metadata": {
    "ExecuteTime": {
     "end_time": "2024-03-31T02:34:44.168306Z",
     "start_time": "2024-03-31T02:34:41.967511Z"
    },
    "collapsed": true
   },
   "outputs": [],
   "source": [
    "#-*- for folding -*-\n",
    "# multi-objective optimization\n",
    "res1,plot=optimize( RING )\n",
    "plot.show()\n",
    "# # nelder-mead optimize usually used for match, need initial value"
   ]
  },
  {
   "cell_type": "code",
   "execution_count": null,
   "id": "b0ac7408",
   "metadata": {},
   "outputs": [],
   "source": [
    "\n",
    "res = match(RING)"
   ]
  },
  {
   "cell_type": "code",
   "execution_count": null,
   "id": "bb337bf2",
   "metadata": {},
   "outputs": [],
   "source": [
    "RING.save()\n",
    "stat[\"period\"]=False\n",
    "# stat[\"printout\"]=True\n",
    "tws = twiss2dict(RING) \n",
    "print(tws)\n",
    "\n",
    "RING2 = BeamLine(\"RING2\",stat, SUPP2, **tws)\n",
    "token2 = \"\"\"VAR, NAME=$QS.*$[0].k1,LOWER=-2.64,UPPER=2.64,STEP=1e-6;\n",
    "            VAR, NAME=$LS.*$[0].l,LOWER=0.1,UPPER=4,STEP=1e-2;\n",
    "            CONSTRAINT, EXPR:=DIM(ABS(END[0].alphax),0.01)/1e-2 + DIM(ABS(END[0].alphay),0.01)/1e-2;\n",
    "            CONSTRAINT, EXPR:=DIM(ABS(B1[0].etax),0.001)/1e-3 +DIM(ABS(B1[0].etapx),0.001)/1e-3;\n",
    "            CONSTRAINT, EXPR:=DIM(2*END[0].betay,END[0].betax) +DIM(MAX(START[0],END[0], betax),30)/30 + +DIM(MAX(START[0],END[0], betay),30)/30 \n",
    "                                + DIM(circumference,10);\n",
    "\n",
    "            OPTIMIZE, EXPR:=DIM(ABS(END[0].alphax),1e-8)/1e-8 + DIM(ABS(END[0].alphay),1e-8)/1e-8;\n",
    "            OPTIMIZE, EXPR:=DIM(ABS(B1[0].etax),1E-8)/1e-8 +DIM(ABS(B1[0].etapx),1E-8)/1e-8;\n",
    "\"\"\"\n",
    "RING2.parse(token2)\n",
    "RING2.display(\"VAR\")\n",
    "RING2.display(\"CONSTRAINT\")\n",
    "RING2.display(\"OPTIMIZE\")\n",
    "# RING[\"STAT\"]\n",
    "\n",
    "# RING[\"period\"]=False\n",
    "# RING2[\"STAT\"]\n"
   ]
  },
  {
   "cell_type": "code",
   "execution_count": null,
   "id": "417cfeea",
   "metadata": {},
   "outputs": [],
   "source": [
    "#-*- matching SUPP -*-\n",
    "# multi-objective optimization\n",
    "res1,plot=optimize(RING2,npop=2000   )\n",
    "values,lbs,ubs,_ = RING2[\"VAR\" ]\n",
    "bounds=[ ]\n",
    "for value,lb,ub in zip(values,lbs,ubs):\n",
    "    bounds.append([max(lb,value-0.2),min(ub,value+0.2)])\n",
    "RING2[\"VAR\"]=bounds\n",
    "RING2.display(\"VAR\")\n",
    "# res = match(RING2, convergence=1e-10 )"
   ]
  },
  {
   "cell_type": "code",
   "execution_count": null,
   "id": "b4fe9ac9",
   "metadata": {},
   "outputs": [],
   "source": [
    "# useful functions in utils/report.py\n",
    "export_vars(RING)\n",
    "save_lattice(RING)\n",
    "nonlinear_parameters(RING)\n",
    "summary(RING )\n",
    "display(RING)\n",
    "twiss2dict(RING, name=\"END\")\n",
    "layout_datas(RING)\n"
   ]
  },
  {
   "cell_type": "markdown",
   "id": "4b75e20e",
   "metadata": {},
   "source": [
    "## Display"
   ]
  },
  {
   "cell_type": "code",
   "execution_count": null,
   "id": "ea8142ee",
   "metadata": {
    "ExecuteTime": {
     "end_time": "2024-03-31T02:36:32.014456Z",
     "start_time": "2024-03-31T02:36:32.000433Z"
    }
   },
   "outputs": [],
   "source": [
    "result1 = summary(RING2,main=False)"
   ]
  },
  {
   "cell_type": "code",
   "execution_count": null,
   "id": "555e69e4",
   "metadata": {
    "ExecuteTime": {
     "end_time": "2024-03-31T02:36:35.075069Z",
     "start_time": "2024-03-31T02:36:35.058039Z"
    }
   },
   "outputs": [],
   "source": [
    "display(RING2)"
   ]
  },
  {
   "cell_type": "markdown",
   "id": "6e3235fa",
   "metadata": {},
   "source": [
    "### graphics "
   ]
  },
  {
   "cell_type": "code",
   "execution_count": null,
   "id": "5028e062",
   "metadata": {
    "ExecuteTime": {
     "end_time": "2024-03-31T02:39:49.766143Z",
     "start_time": "2024-03-31T02:39:49.357087Z"
    }
   },
   "outputs": [],
   "source": [
    "opti=OpticsPlot(RING2 )\n",
    "opti.draw([\"etax\",\"H0\"],dpi=100 )"
   ]
  },
  {
   "cell_type": "code",
   "execution_count": null,
   "id": "52478b9a",
   "metadata": {
    "ExecuteTime": {
     "end_time": "2024-03-31T02:49:04.693615Z",
     "start_time": "2024-03-31T02:49:04.574616Z"
    }
   },
   "outputs": [],
   "source": [
    "layout= Layout()\n",
    "RING[0,\"thetax\"]=3.1415926/2*0\n",
    "RING.calc()\n",
    "# list of [elem_type,x,y,theta,angle,length]\n",
    "datas=layout_datas(RING)\n",
    "layout.add_beamline(datas)\n",
    "# RING[0,\"thetax\"]=3.1415926/2\n",
    "# RING.calc()\n",
    "# datas=layout_datas(RING)\n",
    "# layout.add_beamline(datas)"
   ]
  },
  {
   "cell_type": "markdown",
   "id": "c9948f54",
   "metadata": {},
   "source": [
    "## Todo\n",
    "1. matching with linear solve like MADX JACOBIAN method (see MADX matchjc.f90)\n",
    "2. misalignment calculation\n",
    "3. FMA calculation\n",
    "4. tracking with radiation \n",
    "5. etc."
   ]
  },
  {
   "cell_type": "code",
   "execution_count": null,
   "id": "b7af6ed9",
   "metadata": {},
   "outputs": [],
   "source": [
    "# -*- JACOBIAN linear solve (not finished)-*-\n",
    "values,lbs0,ubs0,_ = RING2[\"VAR\"]\n",
    "best_value = np.array(values )\n",
    "best_G = np.array(RING2[\"CONSTRAINT\"])\n",
    "best_F = np.array(RING2[\"OPTIMIZE\"])\n",
    "best_conv = np.sum(best_G**2)+np.sum(best_F**2)\n",
    "\n",
    "for j in range(100):\n",
    "    values,lbs0,ubs0,_ = RING2[\"VAR\"]\n",
    "    # conv = np.sum(G**2)+np.sum(F**2)\n",
    "    # if conv<1e-10: break\n",
    "    # if best_conv > conv: \n",
    "    #     best_value = np.array(values )\n",
    "    #     best_G = G\n",
    "    #     best_F = F\n",
    "\n",
    "    X=np.array([values for i in range(len(values)+1) ] )\n",
    "\n",
    "    delta = 1e-6\n",
    "    for i in range(len(values)):\n",
    "        X[i,i]+=delta\n",
    "\n",
    "    cv =  RING2[\"CONSTRAINT\"] \n",
    "    f = RING2[\"OPTIMIZE\"]\n",
    "    \n",
    "    G = np.array([cv for i in range(len(values)+1) ] )\n",
    "    F = np.array([f for i in range(len(values)+1) ] )\n",
    "    RING2.evolution(X,F,G )\n",
    "    F1 = np.concatenate((1e20*G,F),axis=1)\n",
    "\n",
    "    F1[:-1] -= F1[-1]\n",
    "    F1[:-1] /= delta\n",
    "    A = F1[:-1].copy().transpose()\n",
    "    print(\"j : \",j)\n",
    "    print(A)\n",
    "    delta_X = np.linalg.lstsq( A, -F1[-1].copy() )\n",
    "    # delta_X\n",
    "    cv,obj=RING2(delta_X[0]+np.array(values))\n",
    "    print(\"cv : \",cv)\n",
    "    print(\"obj : \",obj)\n",
    "    if np.sum(cv**2)+np.sum(obj**2)<1e-10: break"
   ]
  }
 ],
 "metadata": {
  "@webio": {
   "lastCommId": null,
   "lastKernelId": null
  },
  "kernelspec": {
   "display_name": "Python 3 (ipykernel)",
   "language": "python",
   "name": "python3"
  },
  "language_info": {
   "codemirror_mode": {
    "name": "ipython",
    "version": 3
   },
   "file_extension": ".py",
   "mimetype": "text/x-python",
   "name": "python",
   "nbconvert_exporter": "python",
   "pygments_lexer": "ipython3",
   "version": "3.7.6"
  },
  "latex_envs": {
   "LaTeX_envs_menu_present": true,
   "autoclose": false,
   "autocomplete": true,
   "bibliofile": "biblio.bib",
   "cite_by": "apalike",
   "current_citInitial": 1,
   "eqLabelWithNumbers": true,
   "eqNumInitial": 1,
   "hotkeys": {
    "equation": "Ctrl-E",
    "itemize": "Ctrl-I"
   },
   "labels_anchors": false,
   "latex_user_defs": false,
   "report_style_numbering": false,
   "user_envs_cfg": false
  },
  "toc": {
   "base_numbering": 1,
   "nav_menu": {},
   "number_sections": true,
   "sideBar": true,
   "skip_h1_title": false,
   "title_cell": "Table of Contents",
   "title_sidebar": "Contents",
   "toc_cell": false,
   "toc_position": {},
   "toc_section_display": true,
   "toc_window_display": false
  },
  "varInspector": {
   "cols": {
    "lenName": 16,
    "lenType": 16,
    "lenVar": 40
   },
   "kernels_config": {
    "python": {
     "delete_cmd_postfix": "",
     "delete_cmd_prefix": "del ",
     "library": "var_list.py",
     "varRefreshCmd": "print(var_dic_list())"
    },
    "r": {
     "delete_cmd_postfix": ") ",
     "delete_cmd_prefix": "rm(",
     "library": "var_list.r",
     "varRefreshCmd": "cat(var_dic_list()) "
    }
   },
   "types_to_exclude": [
    "module",
    "function",
    "builtin_function_or_method",
    "instance",
    "_Feature"
   ],
   "window_display": false
  }
 },
 "nbformat": 4,
 "nbformat_minor": 5
}
